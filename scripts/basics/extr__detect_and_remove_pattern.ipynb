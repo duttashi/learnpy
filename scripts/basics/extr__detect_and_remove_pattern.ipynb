{
 "cells": [
  {
   "cell_type": "markdown",
   "metadata": {},
   "source": [
    "**Objective**: Let's say I have a text file which contains both alphanumerical values and only numerical values of length 10 digits line by line, like the one shown below:\n",
    "\n",
    "abcdefgh\n",
    "\n",
    "0123456789\n",
    "\n",
    "edf6543jewjew\n",
    "\n",
    "9876543219\n",
    "\n",
    "**Question**: How to delete all the lines which contains only those random 10 digit numbers, i.e. expected output for the above example is the following:\n",
    "\n",
    "abcdefgh\n",
    "\n",
    "edf6543jewjew\n",
    "\n",
    "Reference: this question was asked on [SO](https://stackoverflow.com/questions/56311479/how-to-delete-digits-only-lines-from-a-text-file)"
   ]
  },
  {
   "cell_type": "markdown",
   "metadata": {},
   "source": [
    "**Solution # 1**"
   ]
  },
  {
   "cell_type": "code",
   "execution_count": 4,
   "metadata": {},
   "outputs": [],
   "source": [
    "datafilepath = 'data//file1.txt'\n",
    "newdatafilepath = 'data//file2.txt'"
   ]
  },
  {
   "cell_type": "code",
   "execution_count": 2,
   "metadata": {},
   "outputs": [
    {
     "name": "stdout",
     "output_type": "stream",
     "text": [
      "['abcdefgh\\n', '0123456789\\n', 'edf6543jewjew\\n', '9876543219']\n"
     ]
    }
   ],
   "source": [
    "with open(datafilepath, \"r\") as f:\n",
    "    lines = f.readlines()\n",
    "    print(lines)"
   ]
  },
  {
   "cell_type": "code",
   "execution_count": 5,
   "metadata": {},
   "outputs": [],
   "source": [
    "with open(datafilepath, \"r\") as f:\n",
    "    lines = f.readlines()\n",
    "with open(newdatafilepath, \"w\") as f:\n",
    "    for line in lines:\n",
    "        if line.strip('\\n').isnumeric() == False:\n",
    "            f.write(line)\n",
    "        elif len(line.strip('\\n')) != 10:\n",
    "            f.write(line)"
   ]
  },
  {
   "cell_type": "code",
   "execution_count": null,
   "metadata": {},
   "outputs": [],
   "source": []
  }
 ],
 "metadata": {
  "kernelspec": {
   "display_name": "Python 3",
   "language": "python",
   "name": "python3"
  },
  "language_info": {
   "codemirror_mode": {
    "name": "ipython",
    "version": 3
   },
   "file_extension": ".py",
   "mimetype": "text/x-python",
   "name": "python",
   "nbconvert_exporter": "python",
   "pygments_lexer": "ipython3",
   "version": "3.6.8"
  }
 },
 "nbformat": 4,
 "nbformat_minor": 2
}
