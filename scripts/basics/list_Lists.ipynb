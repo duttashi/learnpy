{
 "cells": [
  {
   "cell_type": "markdown",
   "metadata": {},
   "source": [
    "### List\n",
    "\n",
    "The Python **List** is a general data structure widely used in Python programs. They are found in other languages,\n",
    "often referred to as dynamic arrays. They are both mutable and a sequence data type that allows them to be indexed\n",
    "and sliced. The list can contain different types of objects, including other list objects."
   ]
  },
  {
   "cell_type": "markdown",
   "metadata": {},
   "source": [
    "#### List methods and supported operators\n",
    "\n",
    "The following notes are from the book *Python Notes for Professionals*"
   ]
  },
  {
   "cell_type": "code",
   "execution_count": 1,
   "metadata": {},
   "outputs": [],
   "source": [
    "# initialise an empty list\n",
    "restaurants = []"
   ]
  },
  {
   "cell_type": "code",
   "execution_count": 2,
   "metadata": {},
   "outputs": [],
   "source": [
    "restaurants = [\"McDonald's\", \"Burger King\", \"McDonald's\", \"Chicken Chicken\"]"
   ]
  },
  {
   "cell_type": "code",
   "execution_count": 3,
   "metadata": {},
   "outputs": [
    {
     "name": "stdout",
     "output_type": "stream",
     "text": [
      "[\"McDonald's\", 'Burger King', \"McDonald's\", 'Chicken Chicken']\n"
     ]
    }
   ],
   "source": [
    "print(restaurants)"
   ]
  },
  {
   "cell_type": "code",
   "execution_count": 11,
   "metadata": {},
   "outputs": [
    {
     "name": "stdout",
     "output_type": "stream",
     "text": [
      "{\"McDonald's\", 'Chicken Chicken', 'Burger King'}\n"
     ]
    },
    {
     "data": {
      "text/plain": [
       "set"
      ]
     },
     "execution_count": 11,
     "metadata": {},
     "output_type": "execute_result"
    }
   ],
   "source": [
    "# print the unique values. Use set operation\n",
    "unique_restaurants = set(restaurants)\n",
    "print(unique_restaurants)\n",
    "# show data type\n",
    "type(unique_restaurants)"
   ]
  },
  {
   "cell_type": "code",
   "execution_count": 12,
   "metadata": {},
   "outputs": [
    {
     "data": {
      "text/plain": [
       "list"
      ]
     },
     "execution_count": 12,
     "metadata": {},
     "output_type": "execute_result"
    }
   ],
   "source": [
    "# convert to list\n",
    "type(list(unique_restaurants))"
   ]
  },
  {
   "cell_type": "code",
   "execution_count": 15,
   "metadata": {},
   "outputs": [
    {
     "name": "stdout",
     "output_type": "stream",
     "text": [
      "[\"McDonald's\", 'Chicken Chicken', 'Burger King', 10, 10]\n"
     ]
    }
   ],
   "source": [
    "# add new element to list\n",
    "# You will need to change the data type to list\n",
    "unique_restaurants = list(unique_restaurants)\n",
    "unique_restaurants.append(10)\n",
    "print(unique_restaurants)"
   ]
  },
  {
   "cell_type": "code",
   "execution_count": 19,
   "metadata": {},
   "outputs": [
    {
     "name": "stdout",
     "output_type": "stream",
     "text": [
      "[\"McDonald's\", 'Chicken Chicken', 'Burger King', 10, 10]\n"
     ]
    }
   ],
   "source": [
    "# check list if empty or not\n",
    "if not unique_restaurants:\n",
    "    print(\"\\nEmpty list\")\n",
    "else:\n",
    "    print(unique_restaurants)"
   ]
  },
  {
   "cell_type": "code",
   "execution_count": 18,
   "metadata": {},
   "outputs": [
    {
     "name": "stdout",
     "output_type": "stream",
     "text": [
      "McDonald's\n",
      "Chicken Chicken\n",
      "Burger King\n",
      "10\n",
      "10\n"
     ]
    }
   ],
   "source": [
    "# iterating over a list\n",
    "for item in unique_restaurants:\n",
    "    print(item)"
   ]
  },
  {
   "cell_type": "code",
   "execution_count": 20,
   "metadata": {},
   "outputs": [
    {
     "name": "stdout",
     "output_type": "stream",
     "text": [
      "0 \t McDonald's\n",
      "1 \t Chicken Chicken\n",
      "2 \t Burger King\n",
      "3 \t 10\n",
      "4 \t 10\n"
     ]
    }
   ],
   "source": [
    "# get the index of each item while iterating over it\n",
    "for (index, item) in enumerate(unique_restaurants):\n",
    "    print(index, \"\\t\", item)"
   ]
  },
  {
   "cell_type": "code",
   "execution_count": 21,
   "metadata": {},
   "outputs": [
    {
     "name": "stdout",
     "output_type": "stream",
     "text": [
      "McDonald's\n",
      "Chicken Chicken\n",
      "Burger King\n",
      "10\n",
      "10\n"
     ]
    }
   ],
   "source": [
    "# iterate the list based on index value\n",
    "for i in range(0, len(unique_restaurants)):\n",
    "    print(unique_restaurants[i])"
   ]
  },
  {
   "cell_type": "code",
   "execution_count": 22,
   "metadata": {},
   "outputs": [
    {
     "name": "stdout",
     "output_type": "stream",
     "text": [
      "McDonald's\n",
      "Chicken Chicken\n",
      "Burger King\n",
      "10\n",
      "10\n"
     ]
    }
   ],
   "source": [
    "# checking whether an item is in a list or not\n",
    "for item in unique_restaurants:\n",
    "    if item in unique_restaurants:\n",
    "        print (item)\n",
    "    else:\n",
    "        print(\"\\n Item not found\")"
   ]
  },
  {
   "cell_type": "code",
   "execution_count": 25,
   "metadata": {},
   "outputs": [
    {
     "name": "stdout",
     "output_type": "stream",
     "text": [
      "<list_reverseiterator object at 0x0000000007588780>\n"
     ]
    }
   ],
   "source": [
    "# Reversing the list items\n",
    "r= reversed(unique_restaurants)\n",
    "print(r)"
   ]
  },
  {
   "cell_type": "code",
   "execution_count": 34,
   "metadata": {},
   "outputs": [
    {
     "name": "stdout",
     "output_type": "stream",
     "text": [
      "buffalo McDonald's\n",
      "zebra Chicken Chicken\n",
      "elephant Burger King\n",
      "crow 10\n"
     ]
    }
   ],
   "source": [
    "# Merge the list elements\n",
    "# zip returns a list of tuples, \n",
    "animals = ['buffalo','zebra','elephant','crow']\n",
    "for a,b in zip(animals, unique_restaurants):\n",
    "    print(a,b)"
   ]
  },
  {
   "cell_type": "code",
   "execution_count": 28,
   "metadata": {},
   "outputs": [
    {
     "name": "stdout",
     "output_type": "stream",
     "text": [
      "buffalo McDonald's\n",
      "zebra Chicken Chicken\n",
      "elephant Burger King\n",
      "crow 10\n",
      "None 10\n"
     ]
    }
   ],
   "source": [
    "# For padding lists of unequal length to the longest one with Nones use itertools.zip_longest\n",
    "import itertools\n",
    "for a, b in itertools.zip_longest(animals, unique_restaurants):\n",
    "    print(a,b)"
   ]
  },
  {
   "cell_type": "code",
   "execution_count": 36,
   "metadata": {},
   "outputs": [],
   "source": [
    "# Insert to a specific index value\n",
    "animals.insert(5, \"Tiger\")"
   ]
  },
  {
   "cell_type": "code",
   "execution_count": 37,
   "metadata": {},
   "outputs": [
    {
     "data": {
      "text/plain": [
       "list"
      ]
     },
     "execution_count": 37,
     "metadata": {},
     "output_type": "execute_result"
    }
   ],
   "source": [
    "type(animals)"
   ]
  },
  {
   "cell_type": "code",
   "execution_count": 38,
   "metadata": {},
   "outputs": [
    {
     "name": "stdout",
     "output_type": "stream",
     "text": [
      "buffalo\n",
      "zebra\n",
      "elephant\n",
      "crow\n",
      "Tiger\n"
     ]
    }
   ],
   "source": [
    "for item in animals:\n",
    "    print(item)"
   ]
  },
  {
   "cell_type": "code",
   "execution_count": 42,
   "metadata": {},
   "outputs": [
    {
     "data": {
      "text/plain": [
       "['buffalo', 'zebra', 'elephant', 'crow', 'Tiger', 'zebra', 'zebra', 'zebra']"
      ]
     },
     "execution_count": 42,
     "metadata": {},
     "output_type": "execute_result"
    }
   ],
   "source": [
    "# Removing duplicate value from a list\n",
    "# Removing duplicate values in a list can be done by converting the list to a set\n",
    "animals.insert(6,\"zebra\")\n",
    "animals"
   ]
  },
  {
   "cell_type": "code",
   "execution_count": 43,
   "metadata": {},
   "outputs": [
    {
     "data": {
      "text/plain": [
       "['Tiger', 'zebra', 'crow', 'buffalo', 'elephant']"
      ]
     },
     "execution_count": 43,
     "metadata": {},
     "output_type": "execute_result"
    }
   ],
   "source": [
    "list(set(animals))"
   ]
  },
  {
   "cell_type": "code",
   "execution_count": 44,
   "metadata": {},
   "outputs": [],
   "source": [
    "# Two dimensional or Three or Multi Dimensional Lists\n",
    "aList = [[[1,2],[3,4,5]],\n",
    "        [6,7,8],[9,10,11],\n",
    "        [12,13,14,15]\n",
    "        ]"
   ]
  },
  {
   "cell_type": "code",
   "execution_count": 46,
   "metadata": {},
   "outputs": [
    {
     "data": {
      "text/plain": [
       "[[[1, 2], [3, 4, 5]], [6, 7, 8], [9, 10, 11], [12, 13, 14, 15]]"
      ]
     },
     "execution_count": 46,
     "metadata": {},
     "output_type": "execute_result"
    }
   ],
   "source": [
    "aList"
   ]
  },
  {
   "cell_type": "code",
   "execution_count": 49,
   "metadata": {},
   "outputs": [
    {
     "name": "stdout",
     "output_type": "stream",
     "text": [
      "2\n"
     ]
    }
   ],
   "source": [
    "# Accessing items in a list\n",
    "print(aList[0][0][1])"
   ]
  },
  {
   "cell_type": "code",
   "execution_count": 50,
   "metadata": {},
   "outputs": [
    {
     "name": "stdout",
     "output_type": "stream",
     "text": [
      "4\n"
     ]
    }
   ],
   "source": [
    "print(aList[0][1][1])"
   ]
  },
  {
   "cell_type": "code",
   "execution_count": 51,
   "metadata": {},
   "outputs": [
    {
     "name": "stdout",
     "output_type": "stream",
     "text": [
      "[[1, 2], [3, 4, 5]]\n",
      "[6, 7, 8]\n",
      "[9, 10, 11]\n",
      "[12, 13, 14, 15]\n",
      "[[1, 2], [3, 4, 5]]\n",
      "[6, 7, 8]\n",
      "[9, 10, 11]\n",
      "[12, 13, 14, 15]\n",
      "[[1, 2], [3, 4, 5]]\n",
      "[6, 7, 8]\n",
      "[9, 10, 11]\n",
      "[12, 13, 14, 15]\n",
      "[[1, 2], [3, 4, 5]]\n",
      "[6, 7, 8]\n",
      "[9, 10, 11]\n",
      "[12, 13, 14, 15]\n"
     ]
    }
   ],
   "source": [
    "# Using nested for loops to print the list\n",
    "for row in aList:\n",
    "    for col in aList:\n",
    "        print (col)"
   ]
  },
  {
   "cell_type": "code",
   "execution_count": 57,
   "metadata": {},
   "outputs": [
    {
     "name": "stdout",
     "output_type": "stream",
     "text": [
      "[1, 2]\n",
      "[3, 4, 5]\n",
      "6\n",
      "7\n",
      "8\n",
      "9\n",
      "10\n",
      "11\n",
      "12\n",
      "13\n",
      "14\n",
      "15\n"
     ]
    }
   ],
   "source": [
    "# Using nested for loops to print the list\n",
    "for row in range(len(aList)) :\n",
    "    for col in range(len(aList[row])) :\n",
    "        print (aList[row][col])"
   ]
  },
  {
   "cell_type": "code",
   "execution_count": 58,
   "metadata": {},
   "outputs": [
    {
     "name": "stdout",
     "output_type": "stream",
     "text": [
      "[7, 8]\n"
     ]
    }
   ],
   "source": [
    "# Using slices in list\n",
    "print(aList[1][1:])"
   ]
  },
  {
   "cell_type": "code",
   "execution_count": 59,
   "metadata": {},
   "outputs": [
    {
     "name": "stdout",
     "output_type": "stream",
     "text": [
      "[[[1, 2], [3, 4, 5]], [6, 7, 8], [9, 10, 11], [12, 13, 14, 15]]\n"
     ]
    }
   ],
   "source": [
    "# The final list\n",
    "print(aList)"
   ]
  },
  {
   "cell_type": "markdown",
   "metadata": {},
   "source": [
    "#### List Comprehensions\n",
    "\n",
    "A list comprehension creates a new list by applying an expression to each element of an iterable. The most basic\n",
    "form is: `[ <expression> for <element> in <iterable> ]`\n",
    "    \n",
    "There is also an optional 'if' condition:\n",
    "    \n",
    "`[ <expression> for <element> in <iterable> if <condition> ]`\n",
    "\n",
    "Each **element** in the **iterable** is plugged in to the **expression** if the (optional) **condition** evaluates to true. All results are returned at once in the new list. Generator expressions are evaluated lazily, but list comprehensions\n",
    "evaluate the entire iterator immediately - consuming memory proportional to the iterator's length."
   ]
  },
  {
   "cell_type": "code",
   "execution_count": 62,
   "metadata": {},
   "outputs": [
    {
     "data": {
      "text/plain": [
       "[1, 4, 9, 16]"
      ]
     },
     "execution_count": 62,
     "metadata": {},
     "output_type": "execute_result"
    }
   ],
   "source": [
    "# Example. To create a list of squared integers:\n",
    "squares = [x * x for x in (1, 2, 3, 4)]\n",
    "squares"
   ]
  },
  {
   "cell_type": "code",
   "execution_count": 64,
   "metadata": {},
   "outputs": [
    {
     "data": {
      "text/plain": [
       "['H', 'E', 'L', 'L', 'O', ' ', 'W', 'O', 'R', 'L', 'D']"
      ]
     },
     "execution_count": 64,
     "metadata": {},
     "output_type": "execute_result"
    }
   ],
   "source": [
    "# # Get a list of uppercase characters from a string\n",
    "[s.upper() for s in \"Hello World\"]"
   ]
  },
  {
   "cell_type": "code",
   "execution_count": 65,
   "metadata": {},
   "outputs": [
    {
     "data": {
      "text/plain": [
       "['these', 'words', 'mostly', 'have,commas']"
      ]
     },
     "execution_count": 65,
     "metadata": {},
     "output_type": "execute_result"
    }
   ],
   "source": [
    "# Strip off any commas from the end of strings in a list\n",
    "[w.strip(',') for w in ['these,', 'words,,', 'mostly', 'have,commas,']]"
   ]
  },
  {
   "cell_type": "code",
   "execution_count": 66,
   "metadata": {},
   "outputs": [
    {
     "data": {
      "text/plain": [
       "['aBefiltuu', 'is', 'beertt', 'ahnt', 'gluy']"
      ]
     },
     "execution_count": 66,
     "metadata": {},
     "output_type": "execute_result"
    }
   ],
   "source": [
    "# Organize letters in words more reasonably - in an alphabetical order\n",
    "sentence = \"Beautiful is better than ugly\"\n",
    "[\"\".join(sorted(word, key = lambda x: x.lower())) for word in sentence.split()]"
   ]
  },
  {
   "cell_type": "code",
   "execution_count": 67,
   "metadata": {},
   "outputs": [
    {
     "data": {
      "text/plain": [
       "[[1, 2], [3, 4], [0, 1]]"
      ]
     },
     "execution_count": 67,
     "metadata": {},
     "output_type": "execute_result"
    }
   ],
   "source": [
    "[sorted(x) for x in [[2, 1], [4, 3], [0, 1]]]"
   ]
  },
  {
   "cell_type": "markdown",
   "metadata": {},
   "source": [
    "##### Conditional List Comprehensions\n",
    "\n",
    "Given a list comprehension you can append one or more if conditions to filter values.\n",
    "[<expression> for <element> in <iterable> if <condition>]\n",
    "\n",
    "For each **element** in **iterable**; if **condition** evaluates to True, add **expression** (usually a function of\n",
    "**element**) to the returned list."
   ]
  },
  {
   "cell_type": "code",
   "execution_count": 68,
   "metadata": {},
   "outputs": [
    {
     "data": {
      "text/plain": [
       "[0, 2, 4, 6, 8]"
      ]
     },
     "execution_count": 68,
     "metadata": {},
     "output_type": "execute_result"
    }
   ],
   "source": [
    "# print the even numbers\n",
    "[x for x in range(10) if x % 2 == 0]"
   ]
  },
  {
   "cell_type": "code",
   "execution_count": 1,
   "metadata": {},
   "outputs": [
    {
     "data": {
      "text/plain": [
       "[1, 3, 5, 7, 9]"
      ]
     },
     "execution_count": 1,
     "metadata": {},
     "output_type": "execute_result"
    }
   ],
   "source": [
    "[x for x in range(10) if x % 2 != 0]"
   ]
  }
 ],
 "metadata": {
  "kernelspec": {
   "display_name": "Python 3",
   "language": "python",
   "name": "python3"
  },
  "language_info": {
   "codemirror_mode": {
    "name": "ipython",
    "version": 3
   },
   "file_extension": ".py",
   "mimetype": "text/x-python",
   "name": "python",
   "nbconvert_exporter": "python",
   "pygments_lexer": "ipython3",
   "version": "3.6.8"
  }
 },
 "nbformat": 4,
 "nbformat_minor": 2
}
