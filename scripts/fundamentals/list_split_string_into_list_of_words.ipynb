{
 "cells": [
  {
   "cell_type": "markdown",
   "metadata": {},
   "source": [
    "Objective: Given a list of strings, split them into a list of words"
   ]
  },
  {
   "cell_type": "code",
   "execution_count": 1,
   "metadata": {},
   "outputs": [],
   "source": [
    "sentences = ['Howdy mate!','today date is May 20, 2019','dell sucks and mac is better','got to understand what is reddit']"
   ]
  },
  {
   "cell_type": "markdown",
   "metadata": {},
   "source": [
    "##### Approach # 1: user defined function"
   ]
  },
  {
   "cell_type": "code",
   "execution_count": 2,
   "metadata": {},
   "outputs": [],
   "source": [
    "def split_list(sentence):\n",
    "    L = []\n",
    "    for s in sentence:\n",
    "        L.append(s.split())\n",
    "    return L"
   ]
  },
  {
   "cell_type": "code",
   "execution_count": 3,
   "metadata": {},
   "outputs": [
    {
     "data": {
      "text/plain": [
       "[['Howdy', 'mate!'],\n",
       " ['today', 'date', 'is', 'May', '20,', '2019'],\n",
       " ['dell', 'sucks', 'and', 'mac', 'is', 'better'],\n",
       " ['got', 'to', 'understand', 'what', 'is', 'reddit']]"
      ]
     },
     "execution_count": 3,
     "metadata": {},
     "output_type": "execute_result"
    }
   ],
   "source": [
    "split_list(sentences)"
   ]
  },
  {
   "cell_type": "markdown",
   "metadata": {},
   "source": [
    "##### Approach # 2: List Comprehensions"
   ]
  },
  {
   "cell_type": "code",
   "execution_count": 5,
   "metadata": {},
   "outputs": [],
   "source": [
    "def split_list(sentence):\n",
    "    # Split each sentence in the list, and append to result list\n",
    "    return [item.split() for item in sentence]"
   ]
  },
  {
   "cell_type": "code",
   "execution_count": 6,
   "metadata": {},
   "outputs": [
    {
     "name": "stdout",
     "output_type": "stream",
     "text": [
      "[['Howdy', 'mate!'], ['today', 'date', 'is', 'May', '20,', '2019'], ['dell', 'sucks', 'and', 'mac', 'is', 'better'], ['got', 'to', 'understand', 'what', 'is', 'reddit']]\n"
     ]
    }
   ],
   "source": [
    "print(split_list(sentences))"
   ]
  },
  {
   "cell_type": "markdown",
   "metadata": {},
   "source": [
    "##### Approach # 3: Using Iteration"
   ]
  },
  {
   "cell_type": "code",
   "execution_count": 7,
   "metadata": {},
   "outputs": [],
   "source": [
    "def split_list(sentence):\n",
    "    result = []\n",
    "    #Split each sentence in the list, and append to result list\n",
    "    for s in sentence:\n",
    "        result.append(s.split())\n",
    "    return result"
   ]
  },
  {
   "cell_type": "code",
   "execution_count": 8,
   "metadata": {},
   "outputs": [
    {
     "name": "stdout",
     "output_type": "stream",
     "text": [
      "[['Howdy', 'mate!'], ['today', 'date', 'is', 'May', '20,', '2019'], ['dell', 'sucks', 'and', 'mac', 'is', 'better'], ['got', 'to', 'understand', 'what', 'is', 'reddit']]\n"
     ]
    }
   ],
   "source": [
    "print(split_list(sentences))"
   ]
  },
  {
   "cell_type": "markdown",
   "metadata": {},
   "source": [
    "##### Approach # 4: Library function"
   ]
  },
  {
   "cell_type": "code",
   "execution_count": 9,
   "metadata": {},
   "outputs": [
    {
     "name": "stdout",
     "output_type": "stream",
     "text": [
      "[['Howdy', 'mate', '!'], ['today', 'date', 'is', 'May', '20', ',', '2019'], ['dell', 'sucks', 'and', 'mac', 'is', 'better'], ['got', 'to', 'understand', 'what', 'is', 'reddit']]\n"
     ]
    }
   ],
   "source": [
    "from nltk import word_tokenize\n",
    "token = [word_tokenize(x) for x in sentences]\n",
    "print(token)"
   ]
  },
  {
   "cell_type": "code",
   "execution_count": null,
   "metadata": {},
   "outputs": [],
   "source": []
  }
 ],
 "metadata": {
  "kernelspec": {
   "display_name": "Python 3",
   "language": "python",
   "name": "python3"
  },
  "language_info": {
   "codemirror_mode": {
    "name": "ipython",
    "version": 3
   },
   "file_extension": ".py",
   "mimetype": "text/x-python",
   "name": "python",
   "nbconvert_exporter": "python",
   "pygments_lexer": "ipython3",
   "version": "3.7.1"
  }
 },
 "nbformat": 4,
 "nbformat_minor": 2
}
