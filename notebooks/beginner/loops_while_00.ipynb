{
 "cells": [
  {
   "cell_type": "markdown",
   "metadata": {},
   "source": [
    "Issue: Create a loop that allows for multiple names to be entered\n",
    "    \n",
    "How while loop works: A while loop has a condition, and the loop will continue to execute so long as the condition is true.\n",
    "\n",
    "while some_condition:\n",
    "    //Do some stuff\n",
    "    //Change your condition if necessary\n",
    "    \n",
    "\n",
    "While the condition some_condition evaluates to True, the code inside the scope of your loop will continue to execute. If your condition never becomes False, then your loop will execute forever."
   ]
  },
  {
   "cell_type": "markdown",
   "metadata": {},
   "source": [
    "Method # 1"
   ]
  },
  {
   "cell_type": "code",
   "execution_count": 4,
   "metadata": {},
   "outputs": [
    {
     "name": "stdout",
     "output_type": "stream",
     "text": [
      "data//enter file name: visitor_log.txt\n"
     ]
    }
   ],
   "source": [
    "filename = input (\"data//enter file name: \")"
   ]
  },
  {
   "cell_type": "code",
   "execution_count": 5,
   "metadata": {},
   "outputs": [
    {
     "ename": "FileNotFoundError",
     "evalue": "[Errno 2] No such file or directory: 'data//visitor.txt'",
     "output_type": "error",
     "traceback": [
      "\u001b[1;31m---------------------------------------------------------------------------\u001b[0m",
      "\u001b[1;31mFileNotFoundError\u001b[0m                         Traceback (most recent call last)",
      "\u001b[1;32m<ipython-input-5-aeae7c300ed5>\u001b[0m in \u001b[0;36m<module>\u001b[1;34m\u001b[0m\n\u001b[1;32m----> 1\u001b[1;33m \u001b[1;32mwith\u001b[0m \u001b[0mopen\u001b[0m\u001b[1;33m(\u001b[0m\u001b[1;34m\"data//visitor.txt\"\u001b[0m\u001b[1;33m,\u001b[0m \u001b[1;34m\"a\"\u001b[0m\u001b[1;33m)\u001b[0m \u001b[1;32mas\u001b[0m \u001b[0mf\u001b[0m\u001b[1;33m:\u001b[0m\u001b[1;33m\u001b[0m\u001b[1;33m\u001b[0m\u001b[0m\n\u001b[0m\u001b[0;32m      2\u001b[0m     \u001b[0maccept_more_visitors\u001b[0m \u001b[1;33m=\u001b[0m \u001b[1;32mTrue\u001b[0m\u001b[1;33m\u001b[0m\u001b[1;33m\u001b[0m\u001b[0m\n\u001b[0;32m      3\u001b[0m     \u001b[1;32mwhile\u001b[0m \u001b[0maccept_more_visitors\u001b[0m\u001b[1;33m:\u001b[0m\u001b[1;33m\u001b[0m\u001b[1;33m\u001b[0m\u001b[0m\n\u001b[0;32m      4\u001b[0m         \u001b[0minput_value\u001b[0m \u001b[1;33m=\u001b[0m \u001b[0minput\u001b[0m\u001b[1;33m(\u001b[0m\u001b[1;34m\"Please write your name, or 'END' if you are done.\"\u001b[0m\u001b[1;33m)\u001b[0m\u001b[1;33m\u001b[0m\u001b[1;33m\u001b[0m\u001b[0m\n\u001b[0;32m      5\u001b[0m         \u001b[1;32mif\u001b[0m \u001b[0minput_value\u001b[0m \u001b[1;33m==\u001b[0m \u001b[1;34m\"END\"\u001b[0m\u001b[1;33m:\u001b[0m\u001b[1;33m\u001b[0m\u001b[1;33m\u001b[0m\u001b[0m\n",
      "\u001b[1;31mFileNotFoundError\u001b[0m: [Errno 2] No such file or directory: 'data//visitor.txt'"
     ]
    }
   ],
   "source": [
    "with open(\"data//visitor.txt\", \"a\") as f:\n",
    "    accept_more_visitors = True\n",
    "    while accept_more_visitors:\n",
    "        input_value = input(\"Please write your name, or 'END' if you are done.\")\n",
    "        if input_value == \"END\":\n",
    "            break\n",
    "        f.write(input_value)"
   ]
  },
  {
   "cell_type": "code",
   "execution_count": 7,
   "metadata": {},
   "outputs": [
    {
     "name": "stdout",
     "output_type": "stream",
     "text": [
      "What's your name? ashish\n",
      "From what gender are you? male\n",
      "How old are you 89\n",
      "Your name is  Ashish . You are  89 years old.\n",
      "You are  Male .\n"
     ]
    }
   ],
   "source": [
    "name = input(\"What's your name? \").capitalize()\n",
    "gender = input(\"From what gender are you? \").capitalize()\n",
    "ok = False #flag\n",
    "while not ok:\n",
    "    age = int(input(\"How old are you \"))\n",
    "    if age >= 130:\n",
    "       print(\"It's impossible that you're that old. Please try again!\")\n",
    "    elif age <= 0:\n",
    "       print('''It should be logical that ages are written in positive numbers! Well, try again! =)''')\n",
    "    else:\n",
    "       ok = True\n",
    "print(\"Your name is \",name, \". You are \", age, \"years old.\" \"\\nYou are \", gender, \".\")"
   ]
  },
  {
   "cell_type": "code",
   "execution_count": null,
   "metadata": {},
   "outputs": [],
   "source": []
  }
 ],
 "metadata": {
  "kernelspec": {
   "display_name": "Python 3",
   "language": "python",
   "name": "python3"
  },
  "language_info": {
   "codemirror_mode": {
    "name": "ipython",
    "version": 3
   },
   "file_extension": ".py",
   "mimetype": "text/x-python",
   "name": "python",
   "nbconvert_exporter": "python",
   "pygments_lexer": "ipython3",
   "version": "3.7.1"
  }
 },
 "nbformat": 4,
 "nbformat_minor": 2
}
